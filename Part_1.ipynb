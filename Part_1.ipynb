{
 "cells": [
  {
   "cell_type": "code",
   "execution_count": 22,
   "id": "03828feb-ca24-4248-b6ca-16ef22f8c6da",
   "metadata": {},
   "outputs": [],
   "source": [
    "import numpy as np\n",
    "import pandas as pd\n",
    "from matplotlib.pyplot import subplots\n",
    "import statsmodels.api as sm\n",
    "import sklearn.model_selection as skm\n",
    "import sklearn.linear_model as skl\n",
    "from sklearn.preprocessing import StandardScaler\n",
    "from ISLP import load_data\n",
    "from ISLP.models import ModelSpec as MS\n",
    "from functools import partial\n",
    "\n",
    "\n",
    "from sklearn.pipeline import Pipeline\n",
    "from sklearn.decomposition import PCA\n",
    "from sklearn.cross_decomposition import PLSRegression\n",
    "from ISLP.models import \\\n",
    "                (Stepwise,\n",
    "                sklearn_selected,\n",
    "                sklearn_selection_path,sklearn_sm)\n",
    "from l0bnb import fit_path\n",
    "\n",
    "College = load_data('College')\n",
    "College = College.dropna()"
   ]
  },
  {
   "cell_type": "markdown",
   "id": "ba4af82c",
   "metadata": {},
   "source": [
    "-- Linear Regression --"
   ]
  },
  {
   "cell_type": "code",
   "execution_count": 23,
   "id": "407ad244",
   "metadata": {},
   "outputs": [],
   "source": [
    "College_train, College_valid = skm.train_test_split(College,\n",
    "                                        test_size=512,\n",
    "                                        random_state=1)\n",
    "\n",
    "allvars = College.columns.drop(['Apps'])\n",
    "design = MS(allvars)\n",
    "\n",
    "# 2. Linear model\n",
    "X_train = design.fit_transform(College_train)\n",
    "y_train = College_train['Apps']\n",
    "model = sm.OLS(y_train, X_train)\n",
    "results = model.fit()\n",
    "\n",
    "X_valid = design.transform(College_valid)\n",
    "y_valid = College_valid['Apps']\n",
    "valid_pred = results.predict(X_valid)\n",
    "#print(np.mean((y_valid - valid_pred)**2))\n",
    "\n",
    "# Cross validation\n",
    "hp_model = sklearn_sm(sm.OLS, MS(allvars))\n",
    "X, Y = College.drop(columns=['Apps']), College['Apps']\n",
    "cv_results = skm.cross_validate(hp_model,X,Y,cv=College.shape[0])\n",
    "cv_err = np.mean(cv_results['test_score'])"
   ]
  },
  {
   "cell_type": "markdown",
   "id": "5c081015",
   "metadata": {},
   "source": [
    "-- Linear regression test error --"
   ]
  },
  {
   "cell_type": "code",
   "execution_count": 30,
   "id": "ca19d1ef",
   "metadata": {},
   "outputs": [
    {
     "data": {
      "text/plain": [
       "1276986.7007954565"
      ]
     },
     "execution_count": 30,
     "metadata": {},
     "output_type": "execute_result"
    }
   ],
   "source": [
    "cv_err"
   ]
  },
  {
   "cell_type": "markdown",
   "id": "ef35073e-da93-42bc-9454-8817b8baf217",
   "metadata": {},
   "source": [
    "-- Ridge Regrssion -- "
   ]
  },
  {
   "cell_type": "code",
   "execution_count": null,
   "id": "a5365d30-d557-4efe-ab4e-aa6a69fc04c4",
   "metadata": {
    "collapsed": true,
    "jupyter": {
     "outputs_hidden": true
    }
   },
   "outputs": [],
   "source": [
    "design = MS(College.columns.drop('Apps')).fit(College)\n",
    "Y = np.array(College['Apps'])\n",
    "\n",
    "D = design.fit_transform(College)\n",
    "D = D.drop('intercept', axis=1)\n",
    "X = np.asarray(D)\n",
    "\n",
    "lambdas = 10**np.linspace(8, -2, 100) / Y.std()\n",
    "\n",
    "scaler = StandardScaler(with_mean=True, with_std=True)\n",
    "\n",
    "outer_valid = skm.ShuffleSplit(n_splits=1,\n",
    "                                test_size=0.23,\n",
    "                                random_state=1)\n",
    "\n",
    "\n",
    "inner_cv = skm.KFold(n_splits=5,\n",
    "                    shuffle=True,\n",
    "                    random_state=2)\n",
    "\n",
    "\n",
    "ridgeCV = skl.ElasticNetCV(alphas=lambdas,\n",
    "                            l1_ratio=0,\n",
    "                            cv=inner_cv)\n",
    "\n",
    "pipeCV = Pipeline(steps=[('scaler', scaler),\n",
    "                            ('ridge', ridgeCV)])\n",
    "\n",
    "results = skm.cross_validate(pipeCV,\n",
    "                            X,\n",
    "                            Y,\n",
    "                            cv=outer_valid,\n",
    "                            scoring='neg_mean_squared_error')"
   ]
  },
  {
   "cell_type": "markdown",
   "id": "c13e6c46-760c-4987-a280-b4e933208b8d",
   "metadata": {},
   "source": [
    "-- Ridge Regression test error --"
   ]
  },
  {
   "cell_type": "code",
   "execution_count": 31,
   "id": "5fe1589e-7373-4ac9-b776-cc6d18f11f3b",
   "metadata": {},
   "outputs": [
    {
     "data": {
      "text/plain": [
       "array([683056.70168986])"
      ]
     },
     "execution_count": 31,
     "metadata": {},
     "output_type": "execute_result"
    }
   ],
   "source": [
    "-results['test_score']"
   ]
  },
  {
   "cell_type": "markdown",
   "id": "d61fd83c-a515-448f-8316-39a0328f1e77",
   "metadata": {},
   "source": [
    "-- Lasso Regression --"
   ]
  },
  {
   "cell_type": "code",
   "execution_count": 32,
   "id": "74269ea0-0943-436b-baf7-cdb3ff51bcaf",
   "metadata": {},
   "outputs": [],
   "source": [
    "design = MS(College.columns.drop('Apps')).fit(College)\n",
    "Y = np.array(College['Apps'])\n",
    "\n",
    "D = design.fit_transform(College)\n",
    "D = D.drop('intercept', axis=1)\n",
    "X = np.asarray(D)\n",
    "\n",
    "scaler = StandardScaler(with_mean=True, with_std=True)\n",
    "lambdas = 10**np.linspace(8, -2, 100) / Y.std()\n",
    "\n",
    "outer_valid = skm.ShuffleSplit(n_splits=1,\n",
    "                                test_size=0.25,\n",
    "                                random_state=1)\n",
    "\n",
    "\n",
    "inner_cv = skm.KFold(n_splits=5,\n",
    "                    shuffle=True,\n",
    "                    random_state=2)\n",
    "\n",
    "lassoCV = skl.ElasticNetCV(alphas=lambdas,\n",
    "                            l1_ratio=1,\n",
    "                            cv=inner_cv)\n",
    "\n",
    "pipeCV = Pipeline(steps=[('scaler', scaler),\n",
    "                        ('lasso', lassoCV)])\n",
    "\n",
    "pipeCV.fit(X, Y)\n",
    "tuned_lasso = pipeCV.named_steps['lasso']\n",
    "\n",
    "results = skm.cross_validate(pipeCV,\n",
    "                            X,\n",
    "                            Y,\n",
    "                            cv=outer_valid,\n",
    "                            scoring='neg_mean_squared_error')\n"
   ]
  },
  {
   "cell_type": "markdown",
   "id": "d8fff86e-df94-4490-8c0b-c55d2d6ab892",
   "metadata": {},
   "source": [
    "-- Ridge Regression test error --"
   ]
  },
  {
   "cell_type": "code",
   "execution_count": 33,
   "id": "c6388881-c9aa-4c60-8fad-3c4417562c22",
   "metadata": {},
   "outputs": [
    {
     "data": {
      "text/plain": [
       "array([683056.70168986])"
      ]
     },
     "execution_count": 33,
     "metadata": {},
     "output_type": "execute_result"
    }
   ],
   "source": [
    "-results['test_score']"
   ]
  },
  {
   "cell_type": "markdown",
   "id": "524c18d2-9031-4803-96de-3c2f64eb39af",
   "metadata": {},
   "source": [
    "-- Number of non-zero coefficient estimates --"
   ]
  },
  {
   "cell_type": "code",
   "execution_count": 34,
   "id": "877fc220-d39d-4d6a-9684-dfc6b09c0b50",
   "metadata": {},
   "outputs": [
    {
     "data": {
      "text/plain": [
       "array([-2.20104552e+02,  3.88449204e+03, -8.17789624e+02,  8.80150745e+02,\n",
       "       -2.81729194e+02,  2.78187455e+02,  6.76232779e+01, -3.45234195e+02,\n",
       "        1.65524240e+02,  3.44800431e+00,  2.10466854e+01, -1.41612622e+02,\n",
       "       -4.90035469e+01,  6.08782188e+01,  2.21254485e+00,  4.06499887e+02,\n",
       "        1.48794108e+02])"
      ]
     },
     "execution_count": 34,
     "metadata": {},
     "output_type": "execute_result"
    }
   ],
   "source": [
    "tuned_lasso.coef_"
   ]
  },
  {
   "cell_type": "markdown",
   "id": "39b863f3",
   "metadata": {},
   "source": [
    "-- PCR model --"
   ]
  },
  {
   "cell_type": "code",
   "execution_count": 37,
   "id": "3abcc5d9-9708-406a-9d11-4dc440dc117f",
   "metadata": {},
   "outputs": [],
   "source": [
    "kfold = skm.KFold(5,\n",
    "                random_state=0,\n",
    "                shuffle=True)\n",
    "\n",
    "\n",
    "pca = PCA(n_components=2)\n",
    "linreg = skl.LinearRegression()\n",
    "pipe = Pipeline([('pca', pca),\n",
    "                ('linreg', linreg)])\n",
    "pipe.fit(X, Y)\n",
    "\n",
    "pipe = Pipeline([('scaler', scaler),\n",
    "('pca', pca),\n",
    "('linreg', linreg)])\n",
    "pipe.fit(X, Y)\n",
    "\n",
    "param_grid = {'pca__n_components': range(1, 20)}\n",
    "grid = skm.GridSearchCV(pipe,\n",
    "                        param_grid,\n",
    "                        cv=kfold,\n",
    "                        scoring='neg_mean_squared_error')\n",
    "\n",
    "Xn = np.zeros((X.shape[0], 1))\n",
    "cv_null = skm.cross_validate(linreg,\n",
    "                             Xn,\n",
    "                             Y,\n",
    "                             cv=kfold,\n",
    "                             scoring='neg_mean_squared_error')"
   ]
  },
  {
   "cell_type": "markdown",
   "id": "ca3bd9fb",
   "metadata": {},
   "source": [
    "-- PCR model test error --"
   ]
  },
  {
   "cell_type": "code",
   "execution_count": null,
   "id": "c5f7131d",
   "metadata": {},
   "outputs": [],
   "source": [
    "-cv_null['test_score'].mean()"
   ]
  }
 ],
 "metadata": {
  "kernelspec": {
   "display_name": "base",
   "language": "python",
   "name": "python3"
  },
  "language_info": {
   "codemirror_mode": {
    "name": "ipython",
    "version": 3
   },
   "file_extension": ".py",
   "mimetype": "text/x-python",
   "name": "python",
   "nbconvert_exporter": "python",
   "pygments_lexer": "ipython3",
   "version": "3.12.2"
  }
 },
 "nbformat": 4,
 "nbformat_minor": 5
}
